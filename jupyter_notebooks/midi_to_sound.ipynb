{
 "cells": [
  {
   "cell_type": "code",
   "execution_count": null,
   "metadata": {},
   "outputs": [],
   "source": [
    "import os\n",
    "import pydub\n",
    "import pydub.effects\n",
    "import piano_synth"
   ]
  },
  {
   "cell_type": "code",
   "execution_count": null,
   "metadata": {},
   "outputs": [],
   "source": [
    "def process_file_paths(original_sound_path, melody_midi_path, harmony_midi_path):\n",
    "    result_file_path = original_sound_path.removesuffix(\".wav\") + \"_result.wav\"\n",
    "    melody_wav_file_path = melody_midi_path.removesuffix(\".mid\") + \".wav\"\n",
    "    harmony_wav_file_path = harmony_midi_path.removesuffix(\".mid\") + \".wav\"\n",
    "    file_paths = {\"original_wav\":original_sound_path, \"melody_midi\": melody_midi_path, \n",
    "                \"harmony_midi\":harmony_midi_path, \"result\":result_file_path, \n",
    "                \"melody_wav\": melody_wav_file_path, \"harmony_wav\":harmony_wav_file_path}\n",
    "    return file_paths\n",
    "    "
   ]
  },
  {
   "cell_type": "code",
   "execution_count": null,
   "metadata": {},
   "outputs": [],
   "source": [
    "PIANO_SOUND_PATH = \"piano_sound/\"\n",
    "\n",
    "def turn_midi_file_into_wav(midi_file_path, wav_file_path):\n",
    "    # print(f\"start render {midi_file_path} to {wav_file_path}...\")\n",
    "    piano_synth.midi_file_to_wav(midi_file_path, wav_file_path, PIANO_SOUND_PATH)\n",
    "    # print(\"render finish!\")"
   ]
  },
  {
   "cell_type": "code",
   "execution_count": null,
   "metadata": {},
   "outputs": [],
   "source": [
    "def combine_sounds(file_paths:dict, would_be_combined:list[bool] = [True, True, True], output_path = \"\"):\n",
    "    assert type(would_be_combined) == list, f\"type(would_be_combined)={type(would_be_combined)}\"\n",
    "    assert len(would_be_combined) == 3, f\"len(would_be_combined)={len(would_be_combined)} != 3\"\n",
    "    \n",
    "    original_sound = pydub.AudioSegment.from_file(file_paths[\"original_wav\"])\n",
    "    melody_sound = pydub.AudioSegment.from_wav(file_paths[\"melody_wav\"])\n",
    "    harmony_sound = pydub.AudioSegment.from_wav(file_paths[\"harmony_wav\"])\n",
    "    original_sound = pydub.effects.normalize(original_sound, 10)\n",
    "    melody_sound = pydub.effects.normalize(melody_sound, 10)\n",
    "    harmony_sound = pydub.effects.normalize(harmony_sound, 10)\n",
    "    sound_list = [original_sound, melody_sound, harmony_sound]\n",
    "\n",
    "    # print(\"start combine...\")\n",
    "    combined_sound: pydub.AudioSegment = pydub.AudioSegment.silent(len(original_sound))\n",
    "    for i, sound in enumerate(sound_list):\n",
    "        if not would_be_combined[i]: continue\n",
    "        combined_sound = combined_sound.overlay(sound)\n",
    "    combined_sound = pydub.effects.normalize(combined_sound, headroom=1)\n",
    "\n",
    "    if output_path == \"\":\n",
    "        output_path = file_paths[\"result\"]\n",
    "    combined_sound.export(output_path, format=\"wav\", bitrate=\"312k\")\n",
    "    # print(\"combine finish!\")"
   ]
  },
  {
   "cell_type": "code",
   "execution_count": null,
   "metadata": {},
   "outputs": [],
   "source": [
    "def midis_to_sound(original_sound_path:str, melody_midi_path:str, harmony_midi_path:str):\n",
    "    file_paths = process_file_paths(original_sound_path, melody_midi_path, harmony_midi_path)\n",
    "    turn_midi_file_into_wav(file_paths[\"melody_midi\"], file_paths[\"melody_wav\"])\n",
    "    turn_midi_file_into_wav(file_paths[\"harmony_midi\"], file_paths[\"harmony_wav\"])\n",
    "    return file_paths"
   ]
  },
  {
   "cell_type": "code",
   "execution_count": null,
   "metadata": {},
   "outputs": [],
   "source": [
    "# file_paths = midis_to_sound(\"mouse_origin.wav\", \"mouse_melody.mid\", \"mouse_harmony.mid\")\n",
    "# combine_sounds(file_paths, [True, True, True], \"result111.wav\")"
   ]
  }
 ],
 "metadata": {
  "kernelspec": {
   "display_name": "Python 3.9.13 64-bit",
   "language": "python",
   "name": "python3"
  },
  "language_info": {
   "codemirror_mode": {
    "name": "ipython",
    "version": 3
   },
   "file_extension": ".py",
   "mimetype": "text/x-python",
   "name": "python",
   "nbconvert_exporter": "python",
   "pygments_lexer": "ipython3",
   "version": "3.9.13"
  },
  "orig_nbformat": 4,
  "vscode": {
   "interpreter": {
    "hash": "aee8b7b246df8f9039afb4144a1f6fd8d2ca17a180786b69acc140d282b71a49"
   }
  }
 },
 "nbformat": 4,
 "nbformat_minor": 2
}
