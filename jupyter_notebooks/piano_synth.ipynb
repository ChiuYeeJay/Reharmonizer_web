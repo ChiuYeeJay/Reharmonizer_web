{
 "cells": [
  {
   "cell_type": "code",
   "execution_count": 22,
   "metadata": {},
   "outputs": [],
   "source": [
    "import pydub\n",
    "import pydub.effects\n",
    "import pretty_midi\n",
    "\n",
    "import sys\n",
    "import os\n",
    "\n",
    "FRAME_RATE = 44100\n",
    "pitch_dict = {\"C\":0, \"C#\":1, \"Db\":1,\"D\":2,\"D#\":3, \"Eb\":3,\"E\":4,\"F\":5,\n",
    "            \"F#\":6, \"Gb\":6,\"G\":7,\"G#\":8, \"Ab\":8,\"A\":9,\"A#\":10, \"Bb\":10,\"B\":11}"
   ]
  },
  {
   "cell_type": "markdown",
   "metadata": {},
   "source": [
    "## sample mapping"
   ]
  },
  {
   "cell_type": "code",
   "execution_count": 18,
   "metadata": {},
   "outputs": [],
   "source": [
    "def build_keymap(sample_path)->list:\n",
    "    keymap = [None] * 128\n",
    "    for i in range(21, 111):\n",
    "        if not os.path.exists(f\"{sample_path}/sample_{i}.wav\"):\n",
    "            print(f\"'{sample_path}/sample_{i}.wav' do not exist!\")\n",
    "        keymap[i] = pydub.effects.normalize(pydub.AudioSegment.from_wav(f\"{sample_path}/sample_{i}.wav\"), 10)\n",
    "    return keymap"
   ]
  },
  {
   "cell_type": "markdown",
   "metadata": {},
   "source": [
    "## constants and utilities"
   ]
  },
  {
   "cell_type": "code",
   "execution_count": 6,
   "metadata": {},
   "outputs": [],
   "source": [
    "VELOCITY_CONSTANT = 1.75\n",
    "EXPRESSION_CONSTANT = 2\n",
    "CROSS_FADE_TIME = 50\n",
    "NOTE_INTERNAL_CROSSFADE_TIME = 25\n",
    "\n",
    "def cc11_to_db_change(val)->float:\n",
    "    return pydub.utils.ratio_to_db((val/127)**VELOCITY_CONSTANT+0.000001)\n",
    "\n",
    "def velocity_to_db_change(val)->float:\n",
    "    return pydub.utils.ratio_to_db((val/127)**EXPRESSION_CONSTANT+0.000001)\n",
    "\n",
    "def get_certain_type_cc_list(all_cc, cc_number)->list[pretty_midi.ControlChange]:\n",
    "    result = []\n",
    "    for cc in all_cc:\n",
    "        if cc.number == cc_number:\n",
    "            result.append(cc)\n",
    "    return result"
   ]
  },
  {
   "cell_type": "markdown",
   "metadata": {},
   "source": [
    "## midi note to sound"
   ]
  },
  {
   "cell_type": "code",
   "execution_count": 16,
   "metadata": {},
   "outputs": [],
   "source": [
    "def make_single_note_sound_with_duration(duration, sample:pydub.AudioSegment)->pydub.AudioSegment:\n",
    "    sound:pydub.AudioSegment\n",
    "    if duration <= len(sample):\n",
    "        sound = sample[:duration]\n",
    "    else:\n",
    "        sound = sample\n",
    "    return sound\n",
    "\n",
    "def midi_note_to_sound(note :pretty_midi.Note, keymap: list)->pydub.AudioSegment:\n",
    "    duration = round((note.end - note.start)*1000) + CROSS_FADE_TIME   # we here add crossfade time for outer crossfade \n",
    "    sample = keymap[note.pitch]\n",
    "    if sample == None:\n",
    "        print(f\"Warn: no sample at midi num: {note.pitch}\")\n",
    "        return pydub.AudioSegment.silent(duration=duration, frame_rate=FRAME_RATE)\n",
    "\n",
    "    sound = make_single_note_sound_with_duration(duration, sample)\n",
    "    \n",
    "    intensity_db = velocity_to_db_change(note.velocity)\n",
    "    sound = sound + intensity_db\n",
    "    \n",
    "    sound = sound.fade_out(CROSS_FADE_TIME)\n",
    "    return sound"
   ]
  },
  {
   "cell_type": "markdown",
   "metadata": {},
   "source": [
    "## combine midi notes"
   ]
  },
  {
   "cell_type": "code",
   "execution_count": 8,
   "metadata": {},
   "outputs": [],
   "source": [
    "def placing_midi_notes(midi_data, keymap)->pydub.AudioSegment:\n",
    "    whole_duration = round(midi_data.get_end_time()*1000)\n",
    "    sound:pydub.AudioSegment = pydub.AudioSegment.silent(duration=whole_duration, frame_rate=FRAME_RATE)\n",
    "    for note in midi_data.instruments[0].notes:\n",
    "        note :pretty_midi.Note\n",
    "        note_start_time = round(note.start*1000)\n",
    "        sound = sound.overlay(midi_note_to_sound(note, keymap), position=note_start_time)\n",
    "    return sound\n"
   ]
  },
  {
   "cell_type": "markdown",
   "metadata": {},
   "source": [
    "## midi_file_to_wav"
   ]
  },
  {
   "cell_type": "code",
   "execution_count": 28,
   "metadata": {},
   "outputs": [],
   "source": [
    "def midi_file_to_wav(input_path, output_path, piano_path):\n",
    "    keymap = build_keymap(piano_path)\n",
    "    midi_data = pretty_midi.PrettyMIDI(input_path)\n",
    "    sound = placing_midi_notes(midi_data, keymap)\n",
    "    sound.export(output_path, \"wav\", bitrate=\"312k\")"
   ]
  },
  {
   "cell_type": "markdown",
   "metadata": {},
   "source": [
    "## run"
   ]
  },
  {
   "cell_type": "code",
   "execution_count": 30,
   "metadata": {},
   "outputs": [],
   "source": [
    "# SOURCE_PATH = \"processed/\"\n",
    "# sound = midi_file_to_wav(\"harmony.mid\", \"result.wav\", SOURCE_PATH)"
   ]
  }
 ],
 "metadata": {
  "interpreter": {
   "hash": "aee8b7b246df8f9039afb4144a1f6fd8d2ca17a180786b69acc140d282b71a49"
  },
  "kernelspec": {
   "display_name": "Python 3.9.10 64-bit",
   "language": "python",
   "name": "python3"
  },
  "language_info": {
   "codemirror_mode": {
    "name": "ipython",
    "version": 3
   },
   "file_extension": ".py",
   "mimetype": "text/x-python",
   "name": "python",
   "nbconvert_exporter": "python",
   "pygments_lexer": "ipython3",
   "version": "3.9.13"
  },
  "orig_nbformat": 4
 },
 "nbformat": 4,
 "nbformat_minor": 2
}
