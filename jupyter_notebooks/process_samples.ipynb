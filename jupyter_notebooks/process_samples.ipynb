{
 "cells": [
  {
   "cell_type": "code",
   "execution_count": 31,
   "metadata": {},
   "outputs": [],
   "source": [
    "import os\n",
    "import librosa\n",
    "import soundfile as sf"
   ]
  },
  {
   "cell_type": "code",
   "execution_count": 17,
   "metadata": {},
   "outputs": [],
   "source": [
    "def most_close_to(num_list, target):\n",
    "    ans = num_list[0]\n",
    "    for num in num_list:\n",
    "        if abs(num-target) <= abs(ans-target):\n",
    "            ans = num\n",
    "    return ans"
   ]
  },
  {
   "cell_type": "code",
   "execution_count": 32,
   "metadata": {},
   "outputs": [],
   "source": [
    "sample_list = os.listdir(\"YDP-GrandPiano-SF2-20160804/wav\")\n",
    "cat = {}\n",
    "for name in sample_list:\n",
    "    pitch_num = int(name[5:8])\n",
    "    velocity = int(name[9:12])\n",
    "    if cat.get(pitch_num) == None:\n",
    "        cat[pitch_num] = [velocity]\n",
    "    else:\n",
    "        cat[pitch_num].append(velocity)\n",
    "        cat[pitch_num].sort()\n",
    "# print(sample_list)"
   ]
  },
  {
   "cell_type": "code",
   "execution_count": 33,
   "metadata": {},
   "outputs": [],
   "source": [
    "INPUT_PREFIX = \"YDP-GrandPiano-SF2-20160804/wav/\"\n",
    "OUTPUT_PREFIX = \"YDP-GrandPiano-SF2-20160804/processed/\"\n",
    "\n",
    "for i in range(21, 109, 3):\n",
    "    root_note_name = f\"{INPUT_PREFIX}piano{i:03d}v{most_close_to(cat[i], 100):03d}.wav\"\n",
    "    print(i)\n",
    "    original, sr = librosa.load(path=root_note_name, sr=44100)\n",
    "    sf.write(f'{OUTPUT_PREFIX}/sample_{i}.wav', original, sr, subtype='PCM_16')\n",
    "\n",
    "    print(i+1)\n",
    "    halftone_shifted = librosa.effects.pitch_shift(y=original, sr=sr, n_steps=1)\n",
    "    sf.write(f'{OUTPUT_PREFIX}/sample_{i+1}.wav', halftone_shifted, sr, subtype='PCM_16')\n",
    "\n",
    "    print(i+2)\n",
    "    wholetone_shifted = librosa.effects.pitch_shift(y=original, sr=sr, n_steps=2)\n",
    "    sf.write(f'{OUTPUT_PREFIX}/sample_{i+2}.wav', wholetone_shifted, sr, subtype='PCM_16')\n"
   ]
  }
 ],
 "metadata": {
  "kernelspec": {
   "display_name": "Python 3.9.13 64-bit",
   "language": "python",
   "name": "python3"
  },
  "language_info": {
   "codemirror_mode": {
    "name": "ipython",
    "version": 3
   },
   "file_extension": ".py",
   "mimetype": "text/x-python",
   "name": "python",
   "nbconvert_exporter": "python",
   "pygments_lexer": "ipython3",
   "version": "3.9.13"
  },
  "orig_nbformat": 4,
  "vscode": {
   "interpreter": {
    "hash": "aee8b7b246df8f9039afb4144a1f6fd8d2ca17a180786b69acc140d282b71a49"
   }
  }
 },
 "nbformat": 4,
 "nbformat_minor": 2
}
